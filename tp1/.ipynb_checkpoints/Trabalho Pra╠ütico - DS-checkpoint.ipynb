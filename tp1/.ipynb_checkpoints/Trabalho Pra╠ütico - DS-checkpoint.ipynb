{
 "cells": [
  {
   "cell_type": "markdown",
   "metadata": {},
   "source": [
    "<table style=\"width: 100%; margin-left: auto; margin-right: auto; background-color: white;\">\n",
    "<tbody>\n",
    "<tr>\n",
    "\n",
    "<td style=\"text-align: center; width: 12%;\"><img src=img/brasil-brasao.png alt=\"\" /></td>\n",
    "\n",
    "<td style=\"width: 68%;\">\n",
    "<h2 style=\"text-align: center; margin-top: 1%;\">Rep&uacute;blica Federativa do Brasil</h2>\n",
    "<h2 style=\"text-align: center; margin-top: 1%;\">Minist&eacute;rio da Educa&ccedil;&atilde;o</h2>\n",
    "<h2 style=\"text-align: center; margin-top: 1%;\">Universidade Federal do Amazonas</h2>\n",
    "<h2 style=\"text-align: center; margin-top: 1%;\">Instituto de Computa&ccedil;&atilde;o</h2>\n",
    "</td>\n",
    "\n",
    "<td style=\"width: 12%;\"><img src=\"img/UFAM-logo.png\" alt=\"\" /></td>\n",
    "\n",
    "</tr>\n",
    "</tbody>\n",
    "</table>\n",
    "\n",
    "---\n",
    "\n",
    "# Ciência de Dados\n",
    "## Trabalho Prático I: Exploração de Dados\n",
    "\n",
    "_Professor Dr. Marco Cristo_"
   ]
  },
  {
   "cell_type": "markdown",
   "metadata": {},
   "source": [
    "**Alunos:**  `Nome Sobrenome, Nome Sobrenome e Nome Sobrenome` <br>\n",
    "**E-mail:** `nome.sobrenome@icomp.ufam.edu.br, nome.sobrenome@icomp.ufam.edu.br e nome.sobrenome@icomp.ufam.edu.br`"
   ]
  },
  {
   "cell_type": "markdown",
   "metadata": {},
   "source": [
    "#### Preliminares"
   ]
  },
  {
   "cell_type": "code",
   "execution_count": 1,
   "metadata": {},
   "outputs": [],
   "source": [
    "# Imports\n",
    "import matplotlib.pyplot as plt\n",
    "import numpy as np\n",
    "import pandas as pd\n",
    "import seaborn as sns\n",
    "from scipy import stats\n",
    "\n",
    "import sklearn\n",
    "import sys\n",
    "import os "
   ]
  },
  {
   "cell_type": "code",
   "execution_count": 2,
   "metadata": {
    "scrolled": true
   },
   "outputs": [
    {
     "name": "stdout",
     "output_type": "stream",
     "text": [
      "Python 3.11.6 (v3.11.6:8b6ee5ba3b, Oct  2 2023, 11:18:21) [Clang 13.0.0 (clang-1300.0.29.30)]\n",
      "--------\n",
      "Pandas: 2.2.0\n",
      "Numpy: 1.26.4\n",
      "SKLearn: 1.7.1\n"
     ]
    }
   ],
   "source": [
    "print(\"Python\", sys.version)\n",
    "print(\"--------\")\n",
    "print(\"Pandas:\", pd.__version__)\n",
    "print(\"Numpy:\", np.__version__)\n",
    "print(\"SKLearn:\", sklearn.__version__)"
   ]
  },
  {
   "cell_type": "code",
   "execution_count": 3,
   "metadata": {},
   "outputs": [],
   "source": [
    "DATA_PQT = 'data/enem2019.parquet' \n",
    "MUNICIPIO_PROVA = 'Londrina' # Use o município que foi especificado para sua equipe. "
   ]
  },
  {
   "cell_type": "code",
   "execution_count": 4,
   "metadata": {},
   "outputs": [
    {
     "data": {
      "text/plain": [
       "(599982, 56)"
      ]
     },
     "execution_count": 4,
     "metadata": {},
     "output_type": "execute_result"
    }
   ],
   "source": [
    "# Caminho do arquivo\n",
    "df_enem = pd.read_parquet(DATA_PQT)\n",
    "df_enem.shape"
   ]
  },
  {
   "cell_type": "markdown",
   "metadata": {},
   "source": [
    "----\n",
    "#### Qualidade de dados"
   ]
  },
  {
   "cell_type": "markdown",
   "metadata": {},
   "source": [
    "<div class=\"alert alert-info\">\n",
    "    <b>1</b> - Quais colunas possuem campos nulos em <code>df_enem</code>?<br><i>Dica</i>: Há muitas formas de fazer isso em Pandas, como por exemplo através da utilização do método `isnull()`.\n",
    "</div>"
   ]
  },
  {
   "cell_type": "code",
   "execution_count": null,
   "metadata": {},
   "outputs": [],
   "source": []
  },
  {
   "cell_type": "markdown",
   "metadata": {},
   "source": [
    "<div class=\"alert alert-info\">\n",
    "<b>2</b> - Remova todas as instâncias que não possuem valores para as colunas <code>NO_MUNICIPIO_NASCIMENTO</code> ou <code>SG_UF_NASCIMENTO</code> Para as colunas <code>CO_PROVA_CN</code>, <code>CO_PROVA_CH</code>, <code>CO_PROVA_LC</code>, <code>CO_PROVA_MT</code> e <code>TP_STATUS_REDACAO</code>, remova apenas as instâncias onde todos esses valores encontram-se ausentes.<br><i>Dica</i>: Os argumentos `subset` e `how`, do método `dropna()` do Pandas podem lhe ajudar.\n",
    "</div>"
   ]
  },
  {
   "cell_type": "code",
   "execution_count": null,
   "metadata": {},
   "outputs": [],
   "source": []
  },
  {
   "cell_type": "markdown",
   "metadata": {},
   "source": [
    "<div class=\"alert alert-info\">\n",
    "    <b>3</b> - Substitua dados faltantes por valores razoáveis. Valores ausentes nas colunas <code>TP_ENSINO</code> e <code>TP_STATUS_REDACAO</code> podem ser substituídos por 0 (0 = Não informado). No caso das notas, se elas forem NaN, podemos substituí-las por 0 (estamos penalizando quem faltou uma prova, mas fez as demais, em parte porque há poucos casos assim nesta base). Já os códigos do tipo de prova (<code>CO_PROVA_**</code>), quando ausentes, podem ser substuídos para 500 (_500 = Faltou à prova_). Após isso, imprima o vetor resultante para confirmar se não há mais valores NaNs. \n",
    "</div>"
   ]
  },
  {
   "cell_type": "code",
   "execution_count": null,
   "metadata": {},
   "outputs": [],
   "source": []
  },
  {
   "cell_type": "markdown",
   "metadata": {},
   "source": [
    "----\n",
    "#### Análise e visualização de dados\n",
    "\n",
    "<div class=\"alert alert-info\">\n",
    "<b>4</b> - Considerando a distribuição de notas em sua cidade de estudo, quem se saiu melhor: alunos das escolas de ensino médio públicas ou privadas? O mesmo se observa para o resto do país? Finalmente, para que provas, o desempenho das escolas públicas da sua cidade de interesse é <i>significativamente</i> pior (confiança de 95%) que a observada nas escolas do resto do país?<br><i>Dica</i>: boxplots são ótimos para comparar distribuições. Você pode verificar relevância da diferença nas notas usando um teste não paramétrico (ex: mannwhitneyu) unicaudal.\n",
    "</div>"
   ]
  },
  {
   "cell_type": "code",
   "execution_count": null,
   "metadata": {},
   "outputs": [],
   "source": []
  },
  {
   "cell_type": "markdown",
   "metadata": {},
   "source": [
    "<div class=\"alert alert-primary\">\n",
    "<b>4.1</b> - Explique os resultados obtidos.\n",
    "</div>"
   ]
  },
  {
   "cell_type": "raw",
   "metadata": {},
   "source": []
  },
  {
   "cell_type": "markdown",
   "metadata": {},
   "source": [
    "<div class=\"alert alert-info\">\n",
    "<b>5</b> - Como se comparam os inscritos que fizeram a prova com intuito de apenas treinar seus conhecimentos com os demais? E o que se observa para o resto do país? Finalmente, para que provas de sua cidade de interesse, o desempenho dos alunos treinando é significativamente melhor (confiança de 95%) que o dos alunos fazendo a prova para valer? Novamente considere as distribuições de notas, mas desta vez use gráficos de violino e avalie diferenças de notas com o teste T de Student. \n",
    "</div> "
   ]
  },
  {
   "cell_type": "code",
   "execution_count": null,
   "metadata": {},
   "outputs": [],
   "source": []
  },
  {
   "cell_type": "markdown",
   "metadata": {},
   "source": [
    "<div class=\"alert alert-primary\">\n",
    "<b>5.1</b> - Explique os resultados obtidos.\n",
    "</div>"
   ]
  },
  {
   "cell_type": "raw",
   "metadata": {},
   "source": []
  },
  {
   "cell_type": "markdown",
   "metadata": {},
   "source": [
    "<div class=\"alert alert-info\">\n",
    "<b>6</b> - Sobre a redação, como se comparam os desempenhos dos inscritos conforme o ano de conclusão do ensino médio em sua cidade de interesse? E no resto do país? Usando um gráfico de linhas, trace as notas médias obtidas contra o ano de conclusão.<br><i>ATENÇÃO</i>: Em `TP_ANO_CONCLUIU`, defina 2019 para todas as intâncias onde `TP_ST_CONCLUSAO` seja igual a 2 (2 = \"Estou cursando e concluirei o Ensino Médio em 2019\").\n",
    "</div> "
   ]
  },
  {
   "cell_type": "code",
   "execution_count": null,
   "metadata": {},
   "outputs": [],
   "source": []
  },
  {
   "cell_type": "markdown",
   "metadata": {},
   "source": [
    "<div class=\"alert alert-primary\">\n",
    "<b>6.1</b> - Explique os resultados obtidos.\n",
    "</div>"
   ]
  },
  {
   "cell_type": "raw",
   "metadata": {},
   "source": []
  },
  {
   "cell_type": "markdown",
   "metadata": {},
   "source": [
    "<div class=\"alert alert-info\">\n",
    "    <b>7</b> - Qual a relação entre o grau de instrução dos pais (<code>Q001</code> e <code>Q002</code>) e o desempenho dos seus filhos, tanto na sua cidade de interesse quanto no resto do país? Considere a média de todas as notas do candidato como seu desempenho. \n",
    "</div> "
   ]
  },
  {
   "cell_type": "code",
   "execution_count": null,
   "metadata": {},
   "outputs": [],
   "source": []
  },
  {
   "cell_type": "markdown",
   "metadata": {},
   "source": [
    "<div class=\"alert alert-primary\">\n",
    "<b>7.1</b> - Explique os resultados obtidos.\n",
    "</div>"
   ]
  },
  {
   "cell_type": "raw",
   "metadata": {},
   "source": []
  },
  {
   "cell_type": "markdown",
   "metadata": {},
   "source": [
    "**Ainda considerando o desempenho calculado na questão anterior e, agora, as seguintes faixas de renda (`Q006`):**\n",
    "\n",
    "A = Nenhuma renda.<br/>B = Até R\\\\$ 998,00.<br/>C = De R\\\\$ 998,01 até R\\\\$ 1.497,00.<br/>D = De R\\\\$ 1.497,01 até R\\\\$ 1.996,00.<br/>E = De R\\\\$ 1.996,01 até R\\\\$ 2.495,00.<br/>F = De R\\\\$ 2.495,01 até R\\\\$ 2.994,00.<br/>G = De R\\\\$ 2.994,01 até R\\\\$ 3.992,00.<br/>H = De R\\\\$ 3.992,01 até R\\\\$ 4.990,00.<br/>I = De R\\\\$ 4.990,01 até R\\\\$ 5.988,00.<br/>J = De R\\\\$ 5.988,01 até R\\\\$ 6.986,00.<br/>K = De R\\\\$ 6.986,01 até R\\\\$ 7.984,00.<br/>L = De R\\\\$ 7.984,01 até R\\\\$ 8.982,00.<br/>M = De R\\\\$ 8.982,01 até R\\\\$ 9.980,00.<br/>N = De R\\\\$ 9.980,01 até R\\\\$ 11.976,00.<br/>O = De R\\\\$ 11.976,01 até R\\\\$ 14.970,00.<br/>P = De R\\\\$ 14.970,01 até R\\\\$ 19.960,00.<br/>Q = Mais de R\\\\$ 19.960,00.<br/>\n",
    "\n",
    "Responda:\n",
    "\n",
    "<div class=\"alert alert-info\">\n",
    "<b>8</b> - É possível afirmar que, dos inscritos que concluem o ensino médio em 2019, os mais ricos são os que obtém o maior desempenho, tanto na sua cidade de interesse quanto no resto do país? Neste caso, além de uma inspeção visual, prove sua afirmação usando um teste de correlação de Spearman.\n",
    "</div>"
   ]
  },
  {
   "cell_type": "code",
   "execution_count": null,
   "metadata": {},
   "outputs": [],
   "source": []
  },
  {
   "cell_type": "markdown",
   "metadata": {},
   "source": [
    "<div class=\"alert alert-primary\">\n",
    "<b>8.1</b> - Explique os resultados obtidos.\n",
    "</div>"
   ]
  },
  {
   "cell_type": "raw",
   "metadata": {},
   "source": []
  },
  {
   "cell_type": "markdown",
   "metadata": {},
   "source": [
    "<div class=\"alert alert-info\">\n",
    "    <b>9</b> - Qual a nota geral média dos alunos, de acordo com o tipo de estado civil (<code>TP_ESTADO_CIVIL</code>), tanto em sua cidade de interesse quanto no resto do país?\n",
    "</div>"
   ]
  },
  {
   "cell_type": "code",
   "execution_count": null,
   "metadata": {},
   "outputs": [],
   "source": []
  },
  {
   "cell_type": "markdown",
   "metadata": {},
   "source": [
    "\n",
    "<div class=\"alert alert-primary\">\n",
    "<b>9.1</b> - Explique os resultados obtidos.\n",
    "</div>"
   ]
  },
  {
   "cell_type": "raw",
   "metadata": {},
   "source": []
  },
  {
   "cell_type": "markdown",
   "metadata": {},
   "source": [
    "<div class=\"alert alert-info\">\n",
    "    <b>10</b> - Qual a nota geral média dos alunos, de acordo com o tipo da lingua estrangeira escolhida (<code>TP_LINGUA</code>) tanto em sua cidade de interesse quanto no resto do país?\n",
    "</div>"
   ]
  },
  {
   "cell_type": "code",
   "execution_count": null,
   "metadata": {},
   "outputs": [],
   "source": []
  },
  {
   "cell_type": "markdown",
   "metadata": {},
   "source": [
    "<div class=\"alert alert-primary\">\n",
    "<b>10.1</b> - Explique os resultados obtidos.\n",
    "</div>"
   ]
  },
  {
   "cell_type": "raw",
   "metadata": {},
   "source": []
  },
  {
   "cell_type": "markdown",
   "metadata": {},
   "source": [
    "<div class=\"alert alert-info\">\n",
    "    <b>11</b> - Qual a nota geral média dos alunos, de acordo com ocupação dos pais/responsáveis e (<code>Q003</code> e <code>Q004</code>) tanto em sua cidade de interesse quanto no resto do país?\n",
    "</div>"
   ]
  },
  {
   "cell_type": "code",
   "execution_count": null,
   "metadata": {},
   "outputs": [],
   "source": []
  },
  {
   "cell_type": "markdown",
   "metadata": {},
   "source": [
    "<div class=\"alert alert-primary\">\n",
    "<b>11.1</b> - Explique os resultados obtidos.\n",
    "</div>"
   ]
  },
  {
   "cell_type": "raw",
   "metadata": {},
   "source": []
  },
  {
   "cell_type": "markdown",
   "metadata": {},
   "source": [
    "----\n",
    "#### Transformação e Engenharia de atributos\n",
    "\n",
    "<div class=\"alert alert-info\">\n",
    "    <b>12</b> - A partir do campo <code>NU_IDADE</code>, que armazena a idade dos inscritos, crie a coluna <code>FAIXA_ETARIA</code> com os seguintes intervalos:\n",
    "    <ul>\n",
    "        <li>[10..18)</li>\n",
    "        <li>[18..22)</li>\n",
    "        <li>[22..26)</li>\n",
    "        <li>[26..33)</li>\n",
    "        <li>[33..40)</li>\n",
    "        <li>[40..55)</li>\n",
    "        <li>[55..65)</li>\n",
    "        <li>[65..70)</li>\n",
    "        <li>[70..100]</li>\n",
    "    </ul><i>ATENÇÃO</i>: Apague instâncias com idade inferior a 10 ou superior a 100 anos.\n",
    "</div>"
   ]
  },
  {
   "cell_type": "code",
   "execution_count": null,
   "metadata": {},
   "outputs": [],
   "source": []
  },
  {
   "cell_type": "markdown",
   "metadata": {},
   "source": [
    "Considerando apenas os alunos que não faltaram a nenhuma prova (`TP_PRESENCA_**`), queremos tentar prever se um dado inscrito irá obter uma nota de redação acima ou abaixo da média, a partir das seguintes informações:\n",
    "\n",
    "- `FAIXA_ETARIA`, `NO_MUNICIPIO_RESIDENCIA`, `TP_SEXO`, `TP_ESTADO_CIVIL`, `TP_ST_CONCLUSAO`, `TP_ANO_CONCLUIU`, `TP_ESCOLA`\n",
    "- `CO_PROVA_CH`,`CO_PROVA_LC`, `NU_NOTA_CH`, `NU_NOTA_LC`, `TP_LINGUA`\n",
    "- `Q001`, `Q002`, `Q003`, `Q004`, `Q005`, `Q006`, `Q021`, `Q022`, `Q024`, `Q025`\n",
    "- `TARGET` \n",
    "\n",
    "<div class=\"alert alert-info\">\n",
    "<b>13</b> - Prepare os dados para aprendizado, convertendo strings para dados categóricos, mantendo sem mudanças os dados categóricos não numéricos e padronizando dados numéricos usando Z-score.<br><i>ATENÇÃO</i>: Você deve criar a coluna `TARGET` para ser utilizada como alvo de classificação e avaliação de atributos. Ela deve ser `1`, caso a nota da redação do aluno seja maior que a média, ou `0`, caso contrário.\n",
    "</div>"
   ]
  },
  {
   "cell_type": "code",
   "execution_count": null,
   "metadata": {},
   "outputs": [],
   "source": []
  },
  {
   "cell_type": "markdown",
   "metadata": {},
   "source": [
    "<div class=\"alert alert-info\">\n",
    "<b>14</b> - Que atributos são os mais importantes considerando correlação absoluta com o alvo, ANOVA, chi quadrado, Informação Mútua e a importância das variáveis de acordo com uma floresta aleatória? Considere apenas candidatos em sua cidade de interesse.<br><i>Dica</i>: Para facilitar a visualização, coloque todas as métricas em um único dataframe. Então as normalize para que todas fiquem entre 0 e 1. Obtenha então uma média agregada das métricas normalizadas e use esta média agregada para ordenar as variáveis da mais à menos importante. \n",
    "</div>"
   ]
  },
  {
   "cell_type": "code",
   "execution_count": null,
   "metadata": {},
   "outputs": [],
   "source": []
  }
 ],
 "metadata": {
  "kernelspec": {
   "display_name": "ml",
   "language": "python",
   "name": "ml"
  },
  "language_info": {
   "codemirror_mode": {
    "name": "ipython",
    "version": 3
   },
   "file_extension": ".py",
   "mimetype": "text/x-python",
   "name": "python",
   "nbconvert_exporter": "python",
   "pygments_lexer": "ipython3",
   "version": "3.11.6"
  }
 },
 "nbformat": 4,
 "nbformat_minor": 4
}
