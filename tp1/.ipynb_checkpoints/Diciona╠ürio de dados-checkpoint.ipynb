{
 "cells": [
  {
   "cell_type": "markdown",
   "metadata": {},
   "source": [
    "<table style=\"width: 100%; margin-left: auto; margin-right: auto; background-color: white;\">\n",
    "<tbody>\n",
    "<tr>\n",
    "\n",
    "<td style=\"text-align: center; width: 12%;\"><img src=img/brasil-brasao.png alt=\"\" /></td>\n",
    "\n",
    "<td style=\"width: 68%;\">\n",
    "<h2 style=\"text-align: center; margin-top: 1%;\">Rep&uacute;blica Federativa do Brasil</h2>\n",
    "<h2 style=\"text-align: center; margin-top: 1%;\">Minist&eacute;rio da Educa&ccedil;&atilde;o</h2>\n",
    "<h2 style=\"text-align: center; margin-top: 1%;\">Universidade Federal do Amazonas</h2>\n",
    "<h2 style=\"text-align: center; margin-top: 1%;\">Instituto de Computa&ccedil;&atilde;o</h2>\n",
    "</td>\n",
    "\n",
    "<td style=\"width: 12%;\"><img src=\"img/UFAM-logo.png\" alt=\"\" /></td>\n",
    "\n",
    "</tr>\n",
    "</tbody>\n",
    "</table>\n",
    "\n",
    "---\n",
    "\n",
    "# Ciência de Dados\n",
    "## Trabalho Prático I: Exploração de Dados\n",
    "\n",
    "<br>\n",
    "\n",
    "### Dicionários de dados\n",
    "\n",
    "<br>"
   ]
  },
  {
   "cell_type": "markdown",
   "metadata": {},
   "source": [
    "#### Dados do participante\n",
    "\n",
    "| Nome da variável        | Descrição                                                    | Tipo         | Categorias                                                   |\n",
    "| ----------------------- | ------------------------------------------------------------ | ------------ | ------------------------------------------------------------ |\n",
    "| NO_MUNICIPIO_RESIDENCIA | Nome do município de residência                              | Alfanumérica |                                                              |\n",
    "| SG_UF_RESIDENCIA        | Sigla da Unidade da Federação de residência                  | Alfanumérica |                                                              |\n",
    "| NU_IDADE                | Idade do inscrito em 31/12/2019. Idades inferiores a 10 anos e superiores a 100 anos estão com o campo vazio na base. | Numérica     |                                                              |\n",
    "| TP_SEXO                 | Sexo                                                         | Alfanumérica | M = Masculino; <br>F = Feminino                              |\n",
    "| TP_ESTADO_CIVIL         | Estado Civil                                                 | Numérica     | 0 = Não informado<br/>1 = Solteiro(a)<br/>2 = Casado(a)/Mora com companheiro(a)<br/>3 = Divorciado(a)/Desquitado(a)/Separado(a)<br/>4 = Viúvo(a) |\n",
    "| TP_NACIONALIDADE        | Nacionalidade                                                | Numérica     | 0 = Não informado<br/>1 = Brasileiro(a)<br/>2 = Brasileiro(a) Naturalizado(a)<br/>3 = Estrangeiro(a)<br/>4 = Brasileiro(a) Nato(a), nascido(a) no exterior<br/> |\n",
    "| NO_MUNICIPIO_NASCIMENTO | Nome do município de nascimento                              | Alfanumérica |                                                              |\n",
    "| SG_UF_NASCIMENTO        | Sigla da Unidade da Federação de nascimento                  | Alfanumérica |                                                              |\n",
    "| TP_ST_CONCLUSAO         | Situação de conclusão do Ensino Médio                        | Numérica     | 1 = Já concluí o Ensino Médio<br/>2 = Estou cursando e concluirei o Ensino Médio em 2019<br/>3 = Estou cursando e concluirei o Ensino Médio após 2019<br/>4 = Não concluí e não estou cursando o Ensino Médio<br/> |\n",
    "| TP_ANO_CONCLUIU         | Ano de Conclusão do Ensino Médio                             | Numérica     | 0 = Não informado<br/>1 = 2018<br/>2 = 2017<br/>3 = 2016<br/>4 = 2015<br/>5 = 2014<br/>6 = 2013<br/>7 = 2012<br/>8 = 2011<br/>9 = 2010<br/>10 = 2009<br/>11 = 2008<br/>12 = 2007<br/>13 = Antes de 2007<br/> |\n",
    "| TP_ESCOLA               | Tipo de escola do Ensino Médio                               | Numérica     | 1 = Não Respondeu<br/>2 = Pública<br/>3 = Privada<br/>4 = Exterior<br/> |\n",
    "| TP_ENSINO               | Tipo de instituição que concluiu ou concluirá o Ensino Médio | Numérica     | 0 = Não informado <br/>1 = Ensino Regular<br/>2 = Educação Especial - Modalidade Substitutiva<br/>3 = Educação de Jovens e Adultos<br/> |\n",
    "| IN_TREINEIRO            | Indica se o inscrito fez a prova com intuito de apenas treinar seus conhecimentos.<br>Obs.: Foi considerado treineiro o inscrito que não havia concluído o ensino médio e não o concluiria em 2019 | Numérica     | 0 = Não<br>1 = Sim                                           |\n",
    "| IN_SEM_RECURSO          | Indicador de inscrito que não requisitou nenhum recurso      | Numérica     | 1 = Sim<br/>2 = Não                                          |"
   ]
  },
  {
   "cell_type": "markdown",
   "metadata": {},
   "source": [
    "#### Dados do local de aplicação da prova\n",
    "\n",
    "| Nome da variável        | Descrição                                                    | Tipo         | Categorias                                                   |\n",
    "| ----------------------- | ------------------------------------------------------------ | ------------ | ------------------------------------------------------------ |\n",
    "| NO_MUNICIPIO_PROVA      | Nome do município da aplicação da prova                      | Alfanumérica |                                                              |\n",
    "| SG_UF_PROVA             | Sigla da Unidade da Federação da aplicação da prova          | Alfanumérica |                                                              |"
   ]
  },
  {
   "cell_type": "markdown",
   "metadata": {},
   "source": [
    "#### Dados da prova objetiva e redação\n",
    "\n",
    "| Nome da variável        | Descrição                                                    | Tipo         | Categorias                                                   |\n",
    "| ----------------------- | ------------------------------------------------------------ | ------------ | ------------------------------------------------------------ |\n",
    "| TP_PRESENCA_CN          | Presença na prova objetiva de Ciências da Natureza           | Numérica     | 0 = Faltou à prova<br/>1 = Presente na prova<br/>2 = Eliminado na prova<br/> |\n",
    "| TP_PRESENCA_CH          | Presença na prova objetiva de Ciências Humanas               | Numérica     | 0 = Faltou à prova<br/>1 = Presente na prova<br/>2 = Eliminado na prova<br/> |\n",
    "| TP_PRESENCA_LC          | Presença na prova objetiva de Linguagens e Códigos           | Numérica     | 0 = Faltou à prova<br/>1 = Presente na prova<br/>2 = Eliminado na prova<br/> |\n",
    "| TP_PRESENCA_MT          | Presença na prova objetiva de Matemática                     | Numérica     | 0 = Faltou à prova<br/>1 = Presente na prova<br/>2 = Eliminado na prova<br/> |\n",
    "| CO_PROVA_CN             | Código do tipo de prova de Ciências da Natureza              | Numérica     | 503 = Azul<br/>504 = Amarela<br/>505 = Cinza<br/>506 = Rosa<br/>519 = Laranja - Adaptada Ledor<br/>523 = Verde - Videoprova - Libras<br/>543 = Amarela (Reaplicação)<br/>544 = Cinza (Reaplicação)<br/>545 = Azul (Reaplicação)<br/>546 = Rosa (Reaplicação)<br/> |\n",
    "| CO_PROVA_CH             | Código do tipo de prova de Ciências Humanas                  | Numérica     | 503 = Azul<br/>504 = Amarela<br/>505 = Cinza<br/>506 = Rosa<br/>519 = Laranja - Adaptada Ledor<br/>523 = Verde - Videoprova - Libras<br/>543 = Amarela (Reaplicação)<br/>544 = Cinza (Reaplicação)<br/>545 = Azul (Reaplicação)<br/>546 = Rosa (Reaplicação)<br/> |\n",
    "| CO_PROVA_LC             | Código do tipo de prova de Linguagens e Códigos              | Numérica     | 503 = Azul<br/>504 = Amarela<br/>505 = Cinza<br/>506 = Rosa<br/>519 = Laranja - Adaptada Ledor<br/>523 = Verde - Videoprova - Libras<br/>543 = Amarela (Reaplicação)<br/>544 = Cinza (Reaplicação)<br/>545 = Azul (Reaplicação)<br/>546 = Rosa (Reaplicação)<br/> |\n",
    "| CO_PROVA_MT             | Código do tipo de prova de Matemática                        | Numérica     | 503 = Azul<br/>504 = Amarela<br/>505 = Cinza<br/>506 = Rosa<br/>519 = Laranja - Adaptada Ledor<br/>523 = Verde - Videoprova - Libras<br/>543 = Amarela (Reaplicação)<br/>544 = Cinza (Reaplicação)<br/>545 = Azul (Reaplicação)<br/>546 = Rosa (Reaplicação)<br/> |\n",
    "| NU_NOTA_CN              | Nota da prova de Ciências da Natureza                        | Numérica     |                                                              |\n",
    "| NU_NOTA_CH              | Nota da prova de Ciências Humanas                            | Numérica     |                                                              |\n",
    "| NU_NOTA_LC              | Nota da prova de Linguagens e Códigos                        | Numérica     |                                                              |\n",
    "| NU_NOTA_MT              | Nota da prova de Matemática                                  | Numérica     |                                                              |\n",
    "| TP_LINGUA               | Língua Estrangeira                                           | Numérica     | 0 = Inglês<br>1 = Espanhol                                   |\n",
    "| TP_STATUS_REDACAO       | Situação da redação do participante                          | Numérica     | 0 = Não informado<br/>1 = Sem problemas<br/>2 = Anulada<br/>3 = Cópia Texto Motivador<br/>4 = Em Branco<br/>6 = Fuga ao tema<br/>7 = Não atendimento ao tipo textual<br/>8 = Texto insuficiente<br/>9 = Parte desconectada<br/> |\n",
    "| NU_NOTA_REDACAO         | Nota da prova de redação                                     | Numérica     |                                                              |"
   ]
  },
  {
   "cell_type": "markdown",
   "metadata": {},
   "source": [
    "#### Dados do questionário socioeconômico\n",
    "\n",
    "| Nome da variável        | Descrição                                                    | Tipo         | Categorias                                                   |\n",
    "| ----------------------- | ------------------------------------------------------------ | ------------ | ------------------------------------------------------------ |\n",
    "| Q001                    | Até que série seu pai, ou o homem responsável por você, estudou? | Alfanumérica | A = Nunca estudou.<br/>B = Não completou a 4ª série/5º ano do Ensino Fundamental.<br/>C = Completou a 4ª série/5º ano, mas não completou a 8ª série/9º ano do Ensino Fundamental.<br/>D = Completou a 8ª série/9º ano do Ensino Fundamental, mas não completou o Ensino Médio.<br/>E = Completou o Ensino Médio, mas não completou a Faculdade.<br/>F = Completou a Faculdade, mas não completou a Pós-graduação.<br/>G = Completou a Pós-graduação.<br/>H = Não sei.<br/> |\n",
    "| Q002                    | Até que série sua mãe, ou a mulher responsável por você, estudou? | Alfanumérica | A = Nunca estudou.<br/>B = Não completou a 4ª série/5º ano do Ensino Fundamental.<br/>C = Completou a 4ª série/5º ano, mas não completou a 8ª série/9º ano do Ensino Fundamental.<br/>D = Completou a 8ª série/9º ano do Ensino Fundamental, mas não completou o Ensino Médio.<br/>E = Completou o Ensino Médio, mas não completou a Faculdade.<br/>F = Completou a Faculdade, mas não completou a Pós-graduação.<br/>G = Completou a Pós-graduação.<br/>H = Não sei.<br/> |\n",
    "| Q003                    | A partir da apresentação de algumas ocupações divididas em grupos ordenados, indique o grupo que contempla a ocupação mais próxima da ocupação do seu pai ou do homem responsável por você. (Se ele não estiver trabalhando, escolha uma ocupação pensando no último trabalho dele). | Alfanumérica | A = Grupo 1: Lavrador, agricultor sem empregados, bóia fria, criador de animais (gado, porcos, galinhas, ovelhas, cavalos etc.), apicultor, pescador, lenhador, seringueiro, extrativista.<br/>B = Grupo 2: Diarista, empregado doméstico, cuidador de idosos, babá, cozinheiro (em casas particulares), motorista particular, jardineiro, faxineiro de empresas e prédios, vigilante, porteiro, carteiro, office-boy, vendedor, caixa, atendente de loja, auxiliar administrativo, recepcionista, servente de pedreiro, repositor de mercadoria.<br/>C = Grupo 3: Padeiro, cozinheiro industrial ou em restaurantes, sapateiro, costureiro, joalheiro, torneiro mecânico, operador de máquinas, soldador, operário de fábrica, trabalhador da mineração, pedreiro, pintor, eletricista, encanador, motorista, caminhoneiro, taxista.<br/>D = Grupo 4: Professor (de ensino fundamental ou médio, idioma, música, artes etc.), técnico (de enfermagem, contabilidade, eletrônica etc.), policial, militar de baixa patente (soldado, cabo, sargento), corretor de imóveis, supervisor, gerente, mestre de obras, pastor, microempresário (proprietário de empresa com menos de 10 empregados), pequeno comerciante, pequeno proprietário de terras, trabalhador autônomo ou por conta própria.<br/>E = Grupo 5: Médico, engenheiro, dentista, psicólogo, economista, advogado, juiz, promotor, defensor, delegado, tenente, capitão, coronel, professor universitário, diretor em empresas públicas ou privadas, político, proprietário de empresas com mais de 10 empregados.<br/>F = Não sei.<br/> |\n",
    "| Q004                    | A partir da apresentação de algumas ocupações divididas em grupos ordenados, indique o grupo que contempla a ocupação mais próxima da ocupação da sua mãe ou da mulher responsável por você. (Se ela não estiver trabalhando, escolha uma ocupação pensando no último trabalho dela). | Alfanumérica | A = Grupo 1: Lavradora, agricultora sem empregados, bóia fria, criadora de animais (gado, porcos, galinhas, ovelhas, cavalos etc.), apicultora, pescadora, lenhadora, seringueira, extrativista.<br/>B = Grupo 2: Diarista, empregada doméstica, cuidadora de idosos, babá, cozinheira (em casas particulares), motorista particular, jardineira, faxineira de empresas e prédios, vigilante, porteira, carteira, office-boy, vendedora, caixa, atendente de loja, auxiliar administrativa, recepcionista, servente de pedreiro, repositora de mercadoria.<br/>C = Grupo 3: Padeira, cozinheira industrial ou em restaurantes, sapateira, costureira, joalheira, torneira mecânica, operadora de máquinas, soldadora, operária de fábrica, trabalhadora da mineração, pedreira, pintora, eletricista, encanadora, motorista, caminhoneira, taxista.<br/>D = Grupo 4: Professora (de ensino fundamental ou médio, idioma, música, artes etc.), técnica (de enfermagem, contabilidade, eletrônica etc.), policial, militar de baixa patente (soldado, cabo, sargento), corretora de imóveis, supervisora, gerente, mestre de obras, pastora, microempresária (proprietária de empresa com menos de 10 empregados), pequena comerciante, pequena proprietária de terras, trabalhadora autônoma ou por conta própria.<br/>E = Grupo 5: Médica, engenheira, dentista, psicóloga, economista, advogada, juíza, promotora, defensora, delegada, tenente, capitã, coronel, professora universitária, diretora em empresas públicas ou privadas, política, proprietária de empresas com mais de 10 empregados.<br/>F = Não sei.<br/> |\n",
    "| Q005                    | Incluindo você, quantas pessoas moram atualmente em sua residência? | Numérica     |                                                              |\n",
    "| Q006                    | Qual é a renda mensal de sua família? (Some a sua renda com a dos seus familiares.) | Alfanumérica | A = Nenhuma renda.<br/>B = Até R\\\\$ 998,00.<br/>C = De R\\\\$ 998,01 até R\\\\$ 1.497,00.<br/>D = De R\\\\$ 1.497,01 até R\\\\$ 1.996,00.<br/>E = De R\\\\$ 1.996,01 até R\\\\$ 2.495,00.<br/>F = De R\\\\$ 2.495,01 até R\\\\$ 2.994,00.<br/>G = De R\\\\$ 2.994,01 até R\\\\$ 3.992,00.<br/>H = De R\\\\$ 3.992,01 até R\\\\$ 4.990,00.<br/>I = De R\\\\$ 4.990,01 até R\\\\$ 5.988,00.<br/>J = De R\\\\$ 5.988,01 até R\\\\$ 6.986,00.<br/>K = De R\\\\$ 6.986,01 até R\\\\$ 7.984,00.<br/>L = De R\\\\$ 7.984,01 até R\\\\$ 8.982,00.<br/>M = De R\\\\$ 8.982,01 até R\\\\$ 9.980,00.<br/>N = De R\\\\$ 9.980,01 até R\\\\$ 11.976,00.<br/>O = De R\\\\$ 11.976,01 até R\\\\$ 14.970,00.<br/>P = De R\\\\$ 14.970,01 até R\\\\$ 19.960,00.<br/>Q = Mais de R\\\\$ 19.960,00.<br/> |\n",
    "| Q007                    | Em sua residência trabalha empregado(a) doméstico(a)?        | Alfanumérica | A = Não.<br/>B = Sim, um ou dois dias por semana.<br/>C = Sim, três ou quatro dias por semana.<br/>D = Sim, pelo menos cinco dias por semana.<br/> |\n",
    "| Q008                    | Na sua residência tem banheiro?                              | Alfanumérica | A = Não.<br/>B = Sim, um.<br/>C = Sim, dois.<br/>D = Sim, três.<br/>E = Sim, quatro ou mais.<br/> |\n",
    "| Q009                    | Na sua residência tem quartos para dormir?                   | Alfanumérica | A = Não.<br/>B = Sim, um.<br/>C = Sim, dois.<br/>D = Sim, três.<br/>E = Sim, quatro ou mais.<br/> |\n",
    "| Q010                    | Na sua residência tem carro?                                 | Alfanumérica | A = Não.<br/>B = Sim, um.<br/>C = Sim, dois.<br/>D = Sim, três.<br/>E = Sim, quatro ou mais.<br/> |\n",
    "| Q011                    | Na sua residência tem motocicleta?                           | Alfanumérica | A = Não.<br/>B = Sim, um.<br/>C = Sim, dois.<br/>D = Sim, três.<br/>E = Sim, quatro ou mais.<br/> |\n",
    "| Q012                    | Na sua residência tem geladeira?                             | Alfanumérica | A = Não.<br/>B = Sim, um.<br/>C = Sim, dois.<br/>D = Sim, três.<br/>E = Sim, quatro ou mais.<br/> |\n",
    "| Q013                    | Na sua residência tem freezer (independente ou segunda porta da geladeira)? | Alfanumérica | A = Não.<br/>B = Sim, um.<br/>C = Sim, dois.<br/>D = Sim, três.<br/>E = Sim, quatro ou mais.<br/> |\n",
    "| Q014                    | Na sua residência tem máquina de lavar roupa? (o tanquinho NÃO deve ser considerado) | Alfanumérica | A = Não.<br/>B = Sim, um.<br/>C = Sim, dois.<br/>D = Sim, três.<br/>E = Sim, quatro ou mais.<br/> |\n",
    "| Q015                    | Na sua residência tem máquina de secar roupa (independente ou em conjunto com a máquina de lavar roupa)? | Alfanumérica | A = Não.<br/>B = Sim, um.<br/>C = Sim, dois.<br/>D = Sim, três.<br/>E = Sim, quatro ou mais.<br/> |\n",
    "| Q016                    | Na sua residência tem forno micro-ondas?                     | Alfanumérica | A = Não.<br/>B = Sim, um.<br/>C = Sim, dois.<br/>D = Sim, três.<br/>E = Sim, quatro ou mais.<br/> |\n",
    "| Q017                    | Na sua residência tem máquina de lavar louça?                | Alfanumérica | A = Não.<br/>B = Sim, um.<br/>C = Sim, dois.<br/>D = Sim, três.<br/>E = Sim, quatro ou mais.<br/> |\n",
    "| Q018                    | Na sua residência tem aspirador de pó?                       | Alfanumérica | A = Sim<br>B = Não                                           |\n",
    "| Q019                    | Na sua residência tem televisão em cores?                    | Alfanumérica | A = Não.<br/>B = Sim, um.<br/>C = Sim, dois.<br/>D = Sim, três.<br/>E = Sim, quatro ou mais.<br/> |\n",
    "| Q020                    | Na sua residência tem aparelho de DVD?                       | Alfanumérica | A = Sim<br/>B = Não                                          |\n",
    "| Q021                    | Na sua residência tem TV por assinatura?                     | Alfanumérica | A = Sim<br/>B = Não                                          |\n",
    "| Q022                    | Na sua residência tem telefone celular?                      | Alfanumérica | A = Não.<br/>B = Sim, um.<br/>C = Sim, dois.<br/>D = Sim, três.<br/>E = Sim, quatro ou mais.<br/> |\n",
    "| Q023                    | Na sua residência tem telefone fixo?                         | Alfanumérica | A = Sim<br/>B = Não                                          |\n",
    "| Q024                    | Na sua residência tem computador?                            | Alfanumérica | A = Não.<br/>B = Sim, um.<br/>C = Sim, dois.<br/>D = Sim, três.<br/>E = Sim, quatro ou mais.<br/> |\n",
    "| Q025                    | Na sua residência tem acesso à Internet?                     | Alfanumérica | A = Sim<br/>B = Não                                          |"
   ]
  },
  {
   "cell_type": "code",
   "execution_count": null,
   "metadata": {},
   "outputs": [],
   "source": []
  }
 ],
 "metadata": {
  "kernelspec": {
   "display_name": "Python 3 (ipykernel)",
   "language": "python",
   "name": "python3"
  },
  "language_info": {
   "codemirror_mode": {
    "name": "ipython",
    "version": 3
   },
   "file_extension": ".py",
   "mimetype": "text/x-python",
   "name": "python",
   "nbconvert_exporter": "python",
   "pygments_lexer": "ipython3",
   "version": "3.11.6"
  }
 },
 "nbformat": 4,
 "nbformat_minor": 4
}
